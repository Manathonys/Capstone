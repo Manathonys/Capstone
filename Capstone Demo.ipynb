{
 "cells": [
  {
   "cell_type": "markdown",
   "metadata": {},
   "source": [
    "Run the following commands in order:\n",
    "- sudo apt-get update\n",
    "- sudo apt-get install python3.9\n",
    "- sudo apt-get install pip3\n",
    "- pip3 install jupyter\n",
    "- pip3 install pandas\n",
    "- pip3 install xlrd"
   ]
  },
  {
   "cell_type": "code",
   "execution_count": 1,
   "metadata": {},
   "outputs": [],
   "source": [
    "import ipywidgets as widgets\n",
    "from ipywidgets import interact, interact_manual\n",
    "import pandas as pd"
   ]
  },
  {
   "cell_type": "code",
   "execution_count": 2,
   "metadata": {
    "scrolled": true
   },
   "outputs": [],
   "source": [
    "Admisiones = pd.read_excel (r\"/mnt/d/Antonio/Documents/Schoolwork/Capstone/Sol_3972_Admisiones.xlsx\")\n",
    "AdmiGPA = pd.read_excel (r\"/mnt/d/Antonio/Documents/Schoolwork/Capstone/Sol_3972_Admisiones.xlsx\", sheet_name=\"GPA\")\n",
    "ClassGrades = pd.read_excel (r\"/mnt/d/Antonio/Documents/Schoolwork/Capstone/Sol_3972_Notas.xlsx\")\n",
    "Graduations = pd.read_excel (r\"/mnt/d/Antonio/Documents/Schoolwork/Capstone/Sol_3972_Admisiones.xlsx\", sheet_name=\"Graduación\")\n",
    "InternalTransfers = pd.read_excel (r\"/mnt/d/Antonio/Documents/Schoolwork/Capstone/Sol_3972_Traslados_Internos_RUM.xlsx\")\n",
    "ExternalTransfers = pd.read_excel (r\"/mnt/d/Antonio/Documents/Schoolwork/Capstone/Sol_3972_Traslados_Externos_RUM.xlsx\")\n",
    "Admission = pd.DataFrame(Admisiones, columns= ['ID Est','Año de Admisión','Programa Académico de Admisión'])\n",
    "Gender = pd.DataFrame(Admisiones, columns= ['ID Est','Género'])\n",
    "IGS = pd.DataFrame(Admisiones, columns= ['ID Est','IGS'])\n",
    "HighSchool = pd.DataFrame(Admisiones, columns= ['ID Est','Escuela Superior','Tipo de Escuela'])"
   ]
  },
  {
   "cell_type": "code",
   "execution_count": 5,
   "metadata": {},
   "outputs": [],
   "source": [
    "Admisiones.sort_values(by=['IGS'],ascending=False,inplace=True)"
   ]
  },
  {
   "cell_type": "code",
   "execution_count": 7,
   "metadata": {
    "scrolled": true
   },
   "outputs": [
    {
     "data": {
      "application/vnd.jupyter.widget-view+json": {
       "model_id": "b16f114e78fd4500a9cd967eb5475de4",
       "version_major": 2,
       "version_minor": 0
      },
      "text/plain": [
       "interactive(children=(Dropdown(description='column', options=('Año de Admisión',), value='Año de Admisión'), I…"
      ]
     },
     "metadata": {},
     "output_type": "display_data"
    }
   ],
   "source": [
    "# Interact with specification of arguments\n",
    "@interact\n",
    "def show_students_admitted_in(column=['Año de Admisión'], \n",
    "                            x=(2010,2020)):\n",
    "    return Admisiones.loc[Admisiones[column] == x]"
   ]
  },
  {
   "cell_type": "code",
   "execution_count": 6,
   "metadata": {
    "scrolled": false
   },
   "outputs": [
    {
     "data": {
      "application/vnd.jupyter.widget-view+json": {
       "model_id": "28529db437df49b9bb6e6bb468ffd92e",
       "version_major": 2,
       "version_minor": 0
      },
      "text/plain": [
       "interactive(children=(Dropdown(description='column', options=('IGS',), value='IGS'), IntSlider(value=300, desc…"
      ]
     },
     "metadata": {},
     "output_type": "display_data"
    }
   ],
   "source": [
    "# Interact with specification of arguments\n",
    "@interact\n",
    "def show_igs_larger_than(column=['IGS'], \n",
    "                            x=(200,400)):\n",
    "    return Admisiones.loc[Admisiones[column] > x]"
   ]
  },
  {
   "cell_type": "code",
   "execution_count": 17,
   "metadata": {},
   "outputs": [],
   "source": [
    "AdmiGPA.sort_values(by=['Año Académico'],ascending=True,inplace=True)"
   ]
  },
  {
   "cell_type": "code",
   "execution_count": 19,
   "metadata": {},
   "outputs": [
    {
     "data": {
      "application/vnd.jupyter.widget-view+json": {
       "model_id": "df2df13c159e4bfda4173cd4d69246ff",
       "version_major": 2,
       "version_minor": 0
      },
      "text/plain": [
       "interactive(children=(Dropdown(description='column', options=('GPA',), value='GPA'), FloatSlider(value=2.0, de…"
      ]
     },
     "metadata": {},
     "output_type": "display_data"
    }
   ],
   "source": [
    "@interact\n",
    "def show_gpa_for(column=['GPA'], \n",
    "                            x=(0.00,4.00)):\n",
    "    return AdmiGPA.loc[AdmiGPA[column] == x]"
   ]
  },
  {
   "cell_type": "code",
   "execution_count": null,
   "metadata": {},
   "outputs": [],
   "source": []
  }
 ],
 "metadata": {
  "kernelspec": {
   "display_name": "Python 3",
   "language": "python",
   "name": "python3"
  },
  "language_info": {
   "codemirror_mode": {
    "name": "ipython",
    "version": 3
   },
   "file_extension": ".py",
   "mimetype": "text/x-python",
   "name": "python",
   "nbconvert_exporter": "python",
   "pygments_lexer": "ipython3",
   "version": "3.5.2"
  }
 },
 "nbformat": 4,
 "nbformat_minor": 4
}
